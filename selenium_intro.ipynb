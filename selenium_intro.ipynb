{
 "cells": [
  {
   "cell_type": "code",
   "execution_count": 3,
   "id": "57b91423",
   "metadata": {},
   "outputs": [],
   "source": [
    "from selenium import webdriver\n",
    "from selenium.webdriver.common.by import By\n",
    "import time"
   ]
  },
  {
   "cell_type": "markdown",
   "id": "973d1c07",
   "metadata": {},
   "source": [
    "### Sample code:\n",
    "\n",
    "Logic:\n",
    "- Load browser using selenium\n",
    "- Load url on the browswer\n",
    "- Initialize sleep time for any refresh operations\n",
    "- Find specific elements by class name\n",
    "- Find the \"Next button\" \n",
    "- Simulate next button click"
   ]
  },
  {
   "cell_type": "code",
   "execution_count": 6,
   "id": "38f8f351",
   "metadata": {},
   "outputs": [
    {
     "name": "stdout",
     "output_type": "stream",
     "text": [
      "“The world as we have created it is a process of our thinking. It cannot be changed without changing our thinking.”\n",
      "by Albert Einstein (about)\n",
      "Tags: change deep-thoughts thinking world\n",
      "“It is our choices, Harry, that show what we truly are, far more than our abilities.”\n",
      "by J.K. Rowling (about)\n",
      "Tags: abilities choices\n",
      "“There are only two ways to live your life. One is as though nothing is a miracle. The other is as though everything is a miracle.”\n",
      "by Albert Einstein (about)\n",
      "Tags: inspirational life live miracle miracles\n",
      "“The person, be it gentleman or lady, who has not pleasure in a good novel, must be intolerably stupid.”\n",
      "by Jane Austen (about)\n",
      "Tags: aliteracy books classic humor\n",
      "“Imperfection is beauty, madness is genius and it's better to be absolutely ridiculous than absolutely boring.”\n",
      "by Marilyn Monroe (about)\n",
      "Tags: be-yourself inspirational\n",
      "“Try not to become a man of success. Rather become a man of value.”\n",
      "by Albert Einstein (about)\n",
      "Tags: adulthood success value\n",
      "“It is better to be hated for what you are than to be loved for what you are not.”\n",
      "by André Gide (about)\n",
      "Tags: life love\n",
      "“I have not failed. I've just found 10,000 ways that won't work.”\n",
      "by Thomas A. Edison (about)\n",
      "Tags: edison failure inspirational paraphrased\n",
      "“A woman is like a tea bag; you never know how strong it is until it's in hot water.”\n",
      "by Eleanor Roosevelt (about)\n",
      "Tags: misattributed-eleanor-roosevelt\n",
      "“A day without sunshine is like, you know, night.”\n",
      "by Steve Martin (about)\n",
      "Tags: humor obvious simile\n"
     ]
    }
   ],
   "source": [
    "driver = webdriver.Chrome() ## Open the website using webdriver and Chrome\n",
    "\n",
    "driver.get('http://quotes.toscrape.com') ## Load the website using webdriver\n",
    "\n",
    "time.sleep(5) ## Initialize the wait to load website before querying again\n",
    "\n",
    "quotes = driver.find_elements(By.CLASS_NAME, 'quote') ## Find elements by classname Quote and store data in a list\n",
    "    \n",
    "for quote in quotes:  ## Print quotes text\n",
    "    print(quote.text)"
   ]
  },
  {
   "cell_type": "markdown",
   "id": "56f25d7c",
   "metadata": {},
   "source": [
    "### Clicking to access next page"
   ]
  },
  {
   "cell_type": "code",
   "execution_count": 7,
   "id": "ab3d0c38",
   "metadata": {},
   "outputs": [],
   "source": [
    "## One way to access next button - Next button is inside class row under the tag \"a\"\n",
    "## This is not a direct way. Try to find alternate simpler ways to access.\n",
    "    \n",
    "next_button = driver.find_elements(By.CLASS_NAME, 'row') # Find rows class under HTML\n",
    "\n",
    "next_links = next_button[1].find_elements(By.TAG_NAME, 'a') # Find all \"a\" tags under second row\n",
    "\n",
    "# Search all \"a\" tags and find the tag with text \"Next\"\n",
    "for n in next_links:\n",
    "    if \"next\" in n.text.lower():\n",
    "        n.click()\n",
    "        break;"
   ]
  },
  {
   "cell_type": "markdown",
   "id": "5fa9bae1",
   "metadata": {},
   "source": [
    "### Expand the code:\n",
    "\n",
    "Adapt the above code to get the quotes from 10 pages by simulating the click button.\n",
    "\n",
    "*HINT:*\\\n",
    "*- Use a for/while loop to run 10 times. In each time query the website for data, and store it.*\\\n",
    "*- For each time, simulate the click button.*"
   ]
  },
  {
   "cell_type": "code",
   "execution_count": null,
   "id": "22da16ab",
   "metadata": {},
   "outputs": [],
   "source": [
    "# Store quotes in this array\n",
    "quotes = []\n",
    "\n",
    "\n",
    "## add the for/while loop code here..\n",
    "\n",
    "## ....\n"
   ]
  },
  {
   "cell_type": "code",
   "execution_count": null,
   "id": "aa3c6d6b",
   "metadata": {},
   "outputs": [],
   "source": [
    "# Close the browser\n",
    "driver.quit()"
   ]
  },
  {
   "cell_type": "markdown",
   "id": "9045418c",
   "metadata": {},
   "source": [
    "### Print all the quotes in 10 pages"
   ]
  },
  {
   "cell_type": "code",
   "execution_count": null,
   "id": "1a85a189",
   "metadata": {},
   "outputs": [],
   "source": []
  }
 ],
 "metadata": {
  "kernelspec": {
   "display_name": "base",
   "language": "python",
   "name": "python3"
  },
  "language_info": {
   "codemirror_mode": {
    "name": "ipython",
    "version": 3
   },
   "file_extension": ".py",
   "mimetype": "text/x-python",
   "name": "python",
   "nbconvert_exporter": "python",
   "pygments_lexer": "ipython3",
   "version": "3.12.9"
  }
 },
 "nbformat": 4,
 "nbformat_minor": 5
}
