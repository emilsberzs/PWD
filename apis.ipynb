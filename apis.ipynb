{
 "cells": [
  {
   "cell_type": "code",
   "execution_count": 9,
   "id": "c97a8b66",
   "metadata": {},
   "outputs": [],
   "source": [
    "import requests\n",
    "import constants\n",
    "import pandas as pd"
   ]
  },
  {
   "cell_type": "markdown",
   "id": "d8727dec",
   "metadata": {},
   "source": [
    "Api key stored in constants variable."
   ]
  },
  {
   "cell_type": "code",
   "execution_count": null,
   "id": "ebd0624c",
   "metadata": {},
   "outputs": [
    {
     "name": "stdout",
     "output_type": "stream",
     "text": [
      "b692773f1ddc1b647134f9c496e1dc86\n",
      "overcast clouds\n"
     ]
    }
   ],
   "source": [
    "url = \"https://api.openweathermap.org/data/2.5/weather\"\n",
    "api_key  = constants.owm\n",
    "print(api_key)\n",
    "params = {\n",
    "    'q':'London,uk',\n",
    "    'APPID':api_key,\n",
    "    }\n",
    "\n",
    "# 51.5072 N, 0.1276 W\n",
    "# Fetches full weather report for the location\n",
    "response = requests.get(url, params = params)\n",
    "\n",
    "# Stores full weather report in a json\n",
    "london_weather = response.json()\n",
    "\n",
    "# Extracts just the few word simple verbal description.\n",
    "london_weather_description = london_weather[\"weather\"][0][\"description\"]\n",
    "#print(london_weather_description)\n",
    "\n",
    "\n"
   ]
  },
  {
   "cell_type": "code",
   "execution_count": null,
   "id": "2ffe151a",
   "metadata": {},
   "outputs": [
    {
     "data": {
      "text/plain": [
       "<Response [200]>"
      ]
     },
     "execution_count": 5,
     "metadata": {},
     "output_type": "execute_result"
    }
   ],
   "source": [
    "requests.get(url, params=params)\n"
   ]
  },
  {
   "cell_type": "markdown",
   "id": "baa0a13d",
   "metadata": {},
   "source": [
    "Iteration through a list of cities to get simple weather descriptions for each place"
   ]
  },
  {
   "cell_type": "code",
   "execution_count": 30,
   "id": "abb97082",
   "metadata": {},
   "outputs": [
    {
     "data": {
      "text/html": [
       "<div>\n",
       "<style scoped>\n",
       "    .dataframe tbody tr th:only-of-type {\n",
       "        vertical-align: middle;\n",
       "    }\n",
       "\n",
       "    .dataframe tbody tr th {\n",
       "        vertical-align: top;\n",
       "    }\n",
       "\n",
       "    .dataframe thead th {\n",
       "        text-align: right;\n",
       "    }\n",
       "</style>\n",
       "<table border=\"1\" class=\"dataframe\">\n",
       "  <thead>\n",
       "    <tr style=\"text-align: right;\">\n",
       "      <th></th>\n",
       "      <th>temp</th>\n",
       "      <th>feels_like</th>\n",
       "      <th>temp_min</th>\n",
       "      <th>temp_max</th>\n",
       "      <th>pressure</th>\n",
       "      <th>humidity</th>\n",
       "      <th>sea_level</th>\n",
       "      <th>grnd_level</th>\n",
       "      <th>description</th>\n",
       "      <th>location</th>\n",
       "    </tr>\n",
       "  </thead>\n",
       "  <tbody>\n",
       "    <tr>\n",
       "      <th>0</th>\n",
       "      <td>295.19</td>\n",
       "      <td>294.73</td>\n",
       "      <td>295.19</td>\n",
       "      <td>295.19</td>\n",
       "      <td>1016</td>\n",
       "      <td>49</td>\n",
       "      <td>1016</td>\n",
       "      <td>1016</td>\n",
       "      <td>scattered clouds</td>\n",
       "      <td>Riga, lv</td>\n",
       "    </tr>\n",
       "    <tr>\n",
       "      <th>1</th>\n",
       "      <td>302.13</td>\n",
       "      <td>300.95</td>\n",
       "      <td>301.25</td>\n",
       "      <td>303.75</td>\n",
       "      <td>1017</td>\n",
       "      <td>29</td>\n",
       "      <td>1017</td>\n",
       "      <td>1007</td>\n",
       "      <td>clear sky</td>\n",
       "      <td>Paris, fr</td>\n",
       "    </tr>\n",
       "    <tr>\n",
       "      <th>2</th>\n",
       "      <td>294.46</td>\n",
       "      <td>294.24</td>\n",
       "      <td>293.44</td>\n",
       "      <td>294.47</td>\n",
       "      <td>1016</td>\n",
       "      <td>61</td>\n",
       "      <td>1016</td>\n",
       "      <td>997</td>\n",
       "      <td>scattered clouds</td>\n",
       "      <td>Moscow, ru</td>\n",
       "    </tr>\n",
       "    <tr>\n",
       "      <th>3</th>\n",
       "      <td>285.56</td>\n",
       "      <td>284.81</td>\n",
       "      <td>283.34</td>\n",
       "      <td>286.76</td>\n",
       "      <td>1031</td>\n",
       "      <td>75</td>\n",
       "      <td>1031</td>\n",
       "      <td>1025</td>\n",
       "      <td>broken clouds</td>\n",
       "      <td>Sydney, au</td>\n",
       "    </tr>\n",
       "    <tr>\n",
       "      <th>4</th>\n",
       "      <td>295.77</td>\n",
       "      <td>295.99</td>\n",
       "      <td>294.43</td>\n",
       "      <td>297.05</td>\n",
       "      <td>1028</td>\n",
       "      <td>73</td>\n",
       "      <td>1028</td>\n",
       "      <td>1027</td>\n",
       "      <td>mist</td>\n",
       "      <td>New York, us</td>\n",
       "    </tr>\n",
       "    <tr>\n",
       "      <th>5</th>\n",
       "      <td>298.65</td>\n",
       "      <td>298.46</td>\n",
       "      <td>297.56</td>\n",
       "      <td>299.88</td>\n",
       "      <td>1018</td>\n",
       "      <td>46</td>\n",
       "      <td>1018</td>\n",
       "      <td>1012</td>\n",
       "      <td>clear sky</td>\n",
       "      <td>Berlin, de</td>\n",
       "    </tr>\n",
       "  </tbody>\n",
       "</table>\n",
       "</div>"
      ],
      "text/plain": [
       "     temp  feels_like  temp_min  temp_max  pressure  humidity  sea_level  \\\n",
       "0  295.19      294.73    295.19    295.19      1016        49       1016   \n",
       "1  302.13      300.95    301.25    303.75      1017        29       1017   \n",
       "2  294.46      294.24    293.44    294.47      1016        61       1016   \n",
       "3  285.56      284.81    283.34    286.76      1031        75       1031   \n",
       "4  295.77      295.99    294.43    297.05      1028        73       1028   \n",
       "5  298.65      298.46    297.56    299.88      1018        46       1018   \n",
       "\n",
       "   grnd_level       description      location  \n",
       "0        1016  scattered clouds      Riga, lv  \n",
       "1        1007         clear sky     Paris, fr  \n",
       "2         997  scattered clouds    Moscow, ru  \n",
       "3        1025     broken clouds    Sydney, au  \n",
       "4        1027              mist  New York, us  \n",
       "5        1012         clear sky    Berlin, de  "
      ]
     },
     "execution_count": 30,
     "metadata": {},
     "output_type": "execute_result"
    }
   ],
   "source": [
    "cities = [\"Riga, lv\", \"Paris, fr\", \"Moscow, ru\", \"Sydney, au\", \"New York, us\", \"Berlin, de\"]\n",
    "\n",
    "# The data will be stored in list once we extracted the fields of interest\n",
    "cities_data = []\n",
    "\n",
    "for c in cities:\n",
    "    url = \"https://api.openweathermap.org/data/2.5/weather\"\n",
    "    params = {\n",
    "        'q':c,\n",
    "        'APPID':api_key\n",
    "        \n",
    "    }\n",
    "    \n",
    "    response = requests.get(url, params=params) \n",
    "    \n",
    "    weather = response.json()\n",
    "    \n",
    "    # Basic readings\n",
    "    main_weather = weather['main']\n",
    "    \n",
    "    # Verbal description\n",
    "    description_weather = weather['weather'][0]['description']\n",
    "    \n",
    "    temp_weather = main_weather\n",
    "    temp_weather['description'] = description_weather\n",
    "    temp_weather['location'] = c\n",
    "    \n",
    "    cities_data.append(temp_weather)\n",
    "   \n",
    "pd.DataFrame(cities_data)"
   ]
  },
  {
   "cell_type": "code",
   "execution_count": null,
   "id": "10a25443",
   "metadata": {},
   "outputs": [],
   "source": []
  }
 ],
 "metadata": {
  "kernelspec": {
   "display_name": "base",
   "language": "python",
   "name": "python3"
  },
  "language_info": {
   "codemirror_mode": {
    "name": "ipython",
    "version": 3
   },
   "file_extension": ".py",
   "mimetype": "text/x-python",
   "name": "python",
   "nbconvert_exporter": "python",
   "pygments_lexer": "ipython3",
   "version": "3.12.9"
  }
 },
 "nbformat": 4,
 "nbformat_minor": 5
}
