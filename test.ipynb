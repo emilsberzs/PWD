{
 "cells": [
  {
   "cell_type": "markdown",
   "id": "feb8321a",
   "metadata": {},
   "source": [
    "# Huge\n",
    "## smaller\n",
    "### smallerere\n"
   ]
  },
  {
   "cell_type": "code",
   "execution_count": 1,
   "id": "a40374db",
   "metadata": {},
   "outputs": [
    {
     "name": "stdout",
     "output_type": "stream",
     "text": [
      "hello\n"
     ]
    }
   ],
   "source": [
    "print('hello')"
   ]
  },
  {
   "cell_type": "code",
   "execution_count": 5,
   "id": "7017dab0",
   "metadata": {},
   "outputs": [
    {
     "data": {
      "text/plain": [
       "<function mean at 0x000001E91BB37D30>"
      ]
     },
     "execution_count": 5,
     "metadata": {},
     "output_type": "execute_result"
    }
   ],
   "source": [
    "import numpy as np\n",
    "\n",
    "np.mean"
   ]
  },
  {
   "cell_type": "code",
   "execution_count": null,
   "id": "7d705c15",
   "metadata": {},
   "outputs": [
    {
     "data": {
      "text/plain": [
       "np.float64(12.0)"
      ]
     },
     "execution_count": 4,
     "metadata": {},
     "output_type": "execute_result"
    }
   ],
   "source": [
    "np.mean([[5, 9, 13], [14, 10, 12], [11, 15, 19]])"
   ]
  },
  {
   "cell_type": "code",
   "execution_count": null,
   "id": "39c94ca6",
   "metadata": {},
   "outputs": [],
   "source": []
  }
 ],
 "metadata": {
  "kernelspec": {
   "display_name": "base",
   "language": "python",
   "name": "python3"
  },
  "language_info": {
   "codemirror_mode": {
    "name": "ipython",
    "version": 3
   },
   "file_extension": ".py",
   "mimetype": "text/x-python",
   "name": "python",
   "nbconvert_exporter": "python",
   "pygments_lexer": "ipython3",
   "version": "3.12.9"
  }
 },
 "nbformat": 4,
 "nbformat_minor": 5
}
